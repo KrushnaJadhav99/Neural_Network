{
 "cells": [
  {
   "cell_type": "code",
   "execution_count": 1,
   "metadata": {},
   "outputs": [],
   "source": [
    "import pandas as pd\n",
    "import matplotlib.pyplot as plt\n",
    "import seaborn as sns\n",
    "import numpy as np\n",
    "import tensorflow as tf\n",
    "import keras\n",
    "import cv2\n",
    "from keras.models import Sequential\n",
    "from keras.layers import Conv2D, MaxPool2D, Flatten, Dense, Dropout\n",
    "import os"
   ]
  },
  {
   "cell_type": "code",
   "execution_count": 2,
   "metadata": {},
   "outputs": [],
   "source": [
    "path1 = r'C:\\Users\\shubh\\Pranjal Sir class\\NN\\archive\\data'\n",
    "cate = ['with_mask', 'without_mask']"
   ]
  },
  {
   "cell_type": "code",
   "execution_count": 3,
   "metadata": {},
   "outputs": [
    {
     "data": {
      "text/plain": [
       "7553"
      ]
     },
     "execution_count": 3,
     "metadata": {},
     "output_type": "execute_result"
    }
   ],
   "source": [
    "image_size = 200\n",
    "input_image = []\n",
    "for i in cate:\n",
    "    folders = os.path.join(path1, i)\n",
    "    label = cate.index(i)\n",
    "    for image in os.listdir(folders):\n",
    "        image_path = os.path.join(folders, image)\n",
    "        image_array = cv2.imread(image_path)-\n",
    "        image_array = cv2.resize(image_array, (image_size, image_size))\n",
    "        input_image.append([image_array, label])\n",
    "len(input_image)"
   ]
  },
  {
   "cell_type": "code",
   "execution_count": 4,
   "metadata": {},
   "outputs": [],
   "source": [
    "# input_image[0]\n",
    "np.random.shuffle(input_image)\n",
    "X = []\n",
    "Y = []\n",
    "for X_values, labels in input_image:\n",
    "    X.append(X_values)\n",
    "    Y.append(labels)\n"
   ]
  },
  {
   "cell_type": "code",
   "execution_count": 5,
   "metadata": {},
   "outputs": [],
   "source": [
    "X  = np.array(X)\n",
    "Y = np.array(Y)\n",
    "X = X/255\n",
    "\n",
    "\n",
    "\n",
    "\n",
    "model = Sequential()\n",
    "model.add(Conv2D(filters = 100, kernel_size = (3,3), activation = 'relu',))\n",
    "model.add(MaxPool2D(pool_size = (2,2)))\n",
    "\n",
    "model.add(MaxPool2D(pool_size = (2,2)))\n",
    "model.add(Flatten())\n",
    "model.add(Dense(50, activation = 'relu', input_shape = X.shape[1:]))\n",
    "model.add(Dropout(0.2))\n",
    "model.add(Dense(2, activation = 'softmax'))\n",
    "\n",
    "model.compile(optimizer= 'adam', loss = 'sparse_categorical_crossentropy', metrics = ['accuracy'])"
   ]
  },
  {
   "cell_type": "code",
   "execution_count": 6,
   "metadata": {},
   "outputs": [
    {
     "name": "stdout",
     "output_type": "stream",
     "text": [
      "Epoch 1/4\n",
      "237/237 [==============================] - 203s 834ms/step - loss: 0.7100 - accuracy: 0.8414\n",
      "Epoch 2/4\n",
      "237/237 [==============================] - 152s 643ms/step - loss: 0.1947 - accuracy: 0.9227\n",
      "Epoch 3/4\n",
      "237/237 [==============================] - 151s 639ms/step - loss: 0.1270 - accuracy: 0.9493\n",
      "Epoch 4/4\n",
      "237/237 [==============================] - 152s 643ms/step - loss: 0.0984 - accuracy: 0.9611\n"
     ]
    },
    {
     "data": {
      "text/plain": [
       "<keras.callbacks.History at 0x1f75ac6d790>"
      ]
     },
     "execution_count": 6,
     "metadata": {},
     "output_type": "execute_result"
    }
   ],
   "source": [
    "model.fit(X, Y, epochs=4)"
   ]
  },
  {
   "cell_type": "code",
   "execution_count": 17,
   "metadata": {},
   "outputs": [
    {
     "name": "stdout",
     "output_type": "stream",
     "text": [
      "95.08804448563485\n",
      "[[3707  353]\n",
      " [  18 3475]]\n"
     ]
    }
   ],
   "source": [
    "from sklearn.metrics import confusion_matrix\n",
    "predict_x = model.predict(X)\n",
    "classes_x = np.argmax(predict_x, axis =1)\n",
    "# classes_y = np.argmax(Y,)\n",
    "con_mat = confusion_matrix(classes_x,Y)\n",
    "acc = con_mat.diagonal().sum() *100/con_mat.sum()\n",
    "print(acc)\n",
    "# con_mat\n",
    "print(con_mat)\n"
   ]
  },
  {
   "cell_type": "code",
   "execution_count": 9,
   "metadata": {},
   "outputs": [
    {
     "data": {
      "text/plain": [
       "'C:\\\\Users\\\\shubh\\\\Pranjal Sir class\\\\NN'"
      ]
     },
     "execution_count": 9,
     "metadata": {},
     "output_type": "execute_result"
    }
   ],
   "source": [
    "pwd # Present working directory"
   ]
  },
  {
   "cell_type": "code",
   "execution_count": 10,
   "metadata": {},
   "outputs": [],
   "source": [
    "model.save(\"my_male_female_model.h5\") # model is saved at the path shown in pwd with the name my_male_female_model.h5"
   ]
  },
  {
   "cell_type": "code",
   "execution_count": 11,
   "metadata": {},
   "outputs": [],
   "source": [
    "from keras.models import load_model\n",
    "\n",
    "model = load_model('my_male_female_model.h5') # Load the Model"
   ]
  },
  {
   "cell_type": "code",
   "execution_count": 13,
   "metadata": {},
   "outputs": [
    {
     "data": {
      "text/plain": [
       "array([[6.4612418e-01, 3.5387579e-01],\n",
       "       [9.9983644e-01, 1.6350133e-04],\n",
       "       [8.8782620e-01, 1.1217377e-01],\n",
       "       ...,\n",
       "       [1.0000000e+00, 5.1294208e-11],\n",
       "       [4.5892403e-02, 9.5410752e-01],\n",
       "       [9.9999964e-01, 3.5168995e-07]], dtype=float32)"
      ]
     },
     "execution_count": 13,
     "metadata": {},
     "output_type": "execute_result"
    }
   ],
   "source": [
    "model.predict(X) # and now use it for Prediction. model.predict(pass your x )"
   ]
  },
  {
   "cell_type": "code",
   "execution_count": null,
   "metadata": {},
   "outputs": [],
   "source": []
  },
  {
   "cell_type": "code",
   "execution_count": null,
   "metadata": {},
   "outputs": [],
   "source": []
  }
 ],
 "metadata": {
  "kernelspec": {
   "display_name": "Python 3",
   "language": "python",
   "name": "python3"
  },
  "language_info": {
   "codemirror_mode": {
    "name": "ipython",
    "version": 3
   },
   "file_extension": ".py",
   "mimetype": "text/x-python",
   "name": "python",
   "nbconvert_exporter": "python",
   "pygments_lexer": "ipython3",
   "version": "3.8.5"
  }
 },
 "nbformat": 4,
 "nbformat_minor": 4
}
